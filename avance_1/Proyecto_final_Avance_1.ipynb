{
  "nbformat": 4,
  "nbformat_minor": 0,
  "metadata": {
    "colab": {
      "provenance": [],
      "collapsed_sections": [],
      "include_colab_link": true
    },
    "kernelspec": {
      "name": "python3",
      "display_name": "Python 3"
    },
    "language_info": {
      "name": "python"
    }
  },
  "cells": [
    {
      "cell_type": "markdown",
      "metadata": {
        "id": "view-in-github",
        "colab_type": "text"
      },
      "source": [
        "<a href=\"https://colab.research.google.com/github/PosgradoMNA/actividades-del-projecto-equipo-74-jonern/blob/main/avance_1/Proyecto_final_Avance_1.ipynb\" target=\"_parent\"><img src=\"https://colab.research.google.com/assets/colab-badge.svg\" alt=\"Open In Colab\"/></a>"
      ]
    },
    {
      "cell_type": "markdown",
      "source": [
        "**Equipo 74**\n",
        "\n",
        "**Ernesto Enríquez Rubio**\n",
        "\n",
        "**Jonathan Garza Bennet**"
      ],
      "metadata": {
        "id": "D_UfU16IDyAA"
      }
    },
    {
      "cell_type": "markdown",
      "source": [
        "**Instrucciones**\n",
        "\n",
        "\n",
        "*   El nombre que caracteriza el conjunto de datos.\n",
        "\n",
        " **Car Prices Dataset**\n",
        "\n",
        "\n",
        "*   La organización que lo generó.\n",
        "\n",
        "    **Kaggle**\n",
        "\n",
        "    **Collaborators: Sidharth Kumar Mohanty, Ishan Garg, Shrijoy Chowdhury**\n",
        "\n",
        "*   Incluya un enlace de Internet donde se puedan descargar el base de datos en línea\n",
        "\n",
        "  **https://www.kaggle.com/datasets/sidharth178/car-prices-dataset?resource=download**\n",
        "*   Describe el conjunto de datos. ¿Qué datos contiene?\n",
        "\n",
        "  **Por la amplia inovación con automoviles sigue creciendo la variedad  de capacidades y características, como modelo, año de producción, categoría, marca, tipo de combustible, volumen del motor, kilometraje, cilindros, color, bolsas de aire y muchos más. Esta base de datos proporciona información para predicir los precios de automóviles para todos. Todos aspiramos a tener un automóvil dentro del presupuesto con las mejores características disponibles. Para resolver el problema del precio, se creó este conjunto de datos de 19237 para el conjunto de datos de entrenamiento y 8245 para el conjunto de datos de prueba.**\n",
        "\n",
        "  **Atributos:**\n",
        "\n",
        "      **0.   ID**\n",
        "\n",
        "      **1.   Precio**\n",
        "\n",
        "      **2.   Impuestos**\n",
        "\n",
        "      **3.   Fabricante**\n",
        "\n",
        "      **4.   Modelo**\n",
        "\n",
        "      **5.   Año de producción**\n",
        "\n",
        "      **6.   Categoria**\n",
        "\n",
        "      **7.   Interior de piel**\n",
        "\n",
        "      **8.   Tipo de combustible**\n",
        "\n",
        "      **9.   Volumen de motor**\n",
        "\n",
        "      **10.  Millas**\n",
        "\n",
        "      **11.  Cilindros**\n",
        "\n",
        "      **12.  Tipo de caja de engranaje**\n",
        "\n",
        "      **13.  Ruedas motrices**\n",
        "\n",
        "      **14.  Puertas**\n",
        "\n",
        "      **15.  Llantas**\n",
        "\n",
        "      **16.  Color**\n",
        "      \n",
        "      **17.  Bolsas de aire**\n",
        "\n",
        "*   ¿Cuáles son algunas de las preguntas de investigación que podría responder con estos datos? Enumere al menos OCHO (no responda las preguntas).\n",
        "\n",
        "1.   **¿Qué tipo de vehículos tienden a ser más económicos?**\n",
        "\n",
        "2.   **¿Cuáles son las características que más incrementan el precio de un vehículo?**\n",
        "\n",
        "3.   **¿Cuáles son las marcas más costosas?**\n",
        "\n",
        "4.   **¿Cuáles son los vehículos más populares?**\n",
        "\n",
        "5.   **¿Cuáles es la diferencia de precio entre vehículos de diferentes combustibles?**\n",
        "\n",
        "6.   **¿Cuál es el recorrido promedio por año?**\n",
        "\n",
        "7.   **¿Cuáles serían las mejores características que se pudiera tener en un vehículo dependiendo de un rango de dinero disponible?**\n",
        "\n",
        "8.   **¿El color del vehículo es una caracteristica que incrementa el precio?**\n",
        "\n",
        "9.   **¿Cúal es la marca que menos se deprecia?**\n",
        "\n",
        "10.  **¿Qué tipo de vehículo es el que más y menos se deprecia?**\n",
        "\n",
        "*   ¿Qué actor (empresa, sector de la sociedad, organismo descentralizado, gobierno, etc.) estaría interesado en las preguntas mencionadas que identificó?\n",
        "\n",
        "  **Personas con interés de comprar y vender un automóvil y empresas de venta de autómoviles seminuevos. Industria automotriz en general para la determinación de precios en nuevos productos.**"
      ],
      "metadata": {
        "id": "LQuHEPSeLDy9"
      }
    }
  ]
}